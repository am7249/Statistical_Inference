{
 "cells": [
  {
   "cell_type": "code",
   "execution_count": 1,
   "metadata": {
    "collapsed": true,
    "deletable": true,
    "editable": true
   },
   "outputs": [],
   "source": [
    "import numpy as np\n",
    "import pandas as pd\n",
    "import matplotlib.pyplot as plt\n",
    "\n",
    "%matplotlib inline"
   ]
  },
  {
   "cell_type": "markdown",
   "metadata": {
    "deletable": true,
    "editable": true
   },
   "source": [
    "## The permutation test is a non-parametric method for testing whether two distributions are the same. This test is “exact” meaning that it is not based on large sample theory approximations."
   ]
  },
  {
   "cell_type": "code",
   "execution_count": 2,
   "metadata": {
    "collapsed": true,
    "deletable": true,
    "editable": true
   },
   "outputs": [],
   "source": [
    "class distribution_test:\n",
    "    def __init__(self, x1, x2):\n",
    "        self.x1 = x1\n",
    "        self.x2 = x2\n",
    "        \n",
    "    def __getlen__(self,x):\n",
    "        return len(x)\n",
    "    \n",
    "    def permutation_test(self,B):\n",
    "        x, y = np.copy(self.x1), np.copy(self.x2)\n",
    "        n = self.__getlen__(x)\n",
    "        m = self.__getlen__(y)\n",
    "        t_obs = abs(np.mean(self.x1) - np.mean(self.x2)) #subjective - could choose any test statistic\n",
    "        \n",
    "        T = []\n",
    "        for i in range(B):\n",
    "            w_data = np.append(x,y)\n",
    "            np.random.shuffle(w_data)\n",
    "            xc, yc = w_data[:n], w_data[n:n+m]\n",
    "            t_new = abs(np.mean(xc) - np.mean(yc))\n",
    "            T.append(t_new)\n",
    "        \n",
    "        count = 0\n",
    "        for i in T:\n",
    "            if i > t_obs:\n",
    "                count += 1\n",
    "        p_value = count/B\n",
    "        \n",
    "        if p_value < 0.05:\n",
    "            print(\"The distributions are different (enough evidence to reject the Null Hypothesis) with the p_value: \",p_value)\n",
    "        elif p_value >= 0.05:\n",
    "            print(\"The distributions are not different (Not enough evidence to reject the Null Hypothesis), and the p_value is: \",p_value)\n",
    "        return p_value"
   ]
  },
  {
   "cell_type": "code",
   "execution_count": 21,
   "metadata": {
    "collapsed": false,
    "deletable": true,
    "editable": true
   },
   "outputs": [
    {
     "name": "stdout",
     "output_type": "stream",
     "text": [
      "The distributions are not different (Not enough evidence to reject the Null Hypothesis), and the p_value is:  0.755\n"
     ]
    }
   ],
   "source": [
    "x = np.random.binomial(20,0.5,1000)\n",
    "y = np.random.binomial(20,0.5,1000)\n",
    "\n",
    "per = distribution_test(x,y)\n",
    "p = per.permutation_test(1000)\n"
   ]
  },
  {
   "cell_type": "code",
   "execution_count": null,
   "metadata": {
    "collapsed": true
   },
   "outputs": [],
   "source": []
  }
 ],
 "metadata": {
  "kernelspec": {
   "display_name": "Python [Anaconda3]",
   "language": "python",
   "name": "Python [Anaconda3]"
  },
  "language_info": {
   "codemirror_mode": {
    "name": "ipython",
    "version": 3
   },
   "file_extension": ".py",
   "mimetype": "text/x-python",
   "name": "python",
   "nbconvert_exporter": "python",
   "pygments_lexer": "ipython3",
   "version": "3.5.4"
  }
 },
 "nbformat": 4,
 "nbformat_minor": 2
}
