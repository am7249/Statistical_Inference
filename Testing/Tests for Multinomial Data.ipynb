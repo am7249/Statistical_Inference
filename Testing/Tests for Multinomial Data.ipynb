{
 "cells": [
  {
   "cell_type": "code",
   "execution_count": 2,
   "metadata": {
    "collapsed": false
   },
   "outputs": [],
   "source": [
    "import numpy as np\n",
    "import pandas as pd\n",
    "import matplotlib.pyplot as plt\n",
    "\n",
    "%matplotlib inline"
   ]
  },
  {
   "cell_type": "code",
   "execution_count": 95,
   "metadata": {
    "collapsed": true
   },
   "outputs": [],
   "source": [
    "import scipy.stats as sp"
   ]
  },
  {
   "cell_type": "markdown",
   "metadata": {},
   "source": [
    "## Implementation of Liklehood Ratio test and Chi-square test"
   ]
  },
  {
   "cell_type": "code",
   "execution_count": 105,
   "metadata": {
    "collapsed": true
   },
   "outputs": [],
   "source": [
    "class multinomial_test:\n",
    "    def __init__(self, observed, expected):\n",
    "        self.obs = observed\n",
    "        self.exp = expected\n",
    "    \n",
    "    def __len__(self,x):\n",
    "        return len(x)\n",
    "    \n",
    "    def liklehood_ratio(self):\n",
    "        obs = np.copy(self.obs)\n",
    "        exp = np.copy(self.exp)\n",
    "        \n",
    "        n = self.__len__(obs)\n",
    "        m = self.__len__(exp)\n",
    "        if n == m:\n",
    "            elem_len = n = m\n",
    "        else:\n",
    "            print(\"Inapplicable as lengths of expected and observed do not match\")\n",
    "            return\n",
    "        \n",
    "        obs_norm = obs/np.sum(obs) #normalize the observed data to get ratios\n",
    "        \n",
    "        lam = 0\n",
    "        for i in range(elem_len):\n",
    "            lam += obs[i]*np.log((obs_norm[i]/exp[i]))\n",
    "        lam = 2*lam\n",
    "        \n",
    "        return round(lam, 4)\n",
    "    \n",
    "    def chisquare_test(self):\n",
    "        obs = np.copy(self.obs)\n",
    "        exp = np.copy(self.exp)\n",
    "        \n",
    "        n = self.__len__(obs)\n",
    "        m = self.__len__(exp)\n",
    "        if n == m:\n",
    "            elem_len = n = m\n",
    "        else:\n",
    "            print(\"Inapplicable as lengths of expected and observed do not match\")\n",
    "            return\n",
    "        \n",
    "        sample_size = np.sum(obs)\n",
    "        exp_X = exp*sample_size\n",
    "        \n",
    "        lam = 0\n",
    "        for i in range(elem_len):\n",
    "            lam += (np.square(obs[i] - exp_X[i]) / exp_X[i])\n",
    "        \n",
    "        return round(lam,4)\n",
    "    "
   ]
  },
  {
   "cell_type": "markdown",
   "metadata": {},
   "source": [
    "## Mendel's Peas Experiment"
   ]
  },
  {
   "cell_type": "code",
   "execution_count": 106,
   "metadata": {
    "collapsed": false
   },
   "outputs": [],
   "source": [
    "p = np.array([9/16,3/16,3/16,1/16]) #expected/hypothesised vector of ratios\n",
    "p_obs = np.array([315,101,108,32]) #observed data for each class (total observations = 556)\n",
    "\n",
    "test = multinomial_test(p_obs,p)\n",
    "lam = test.liklehood_ratio()\n",
    "lam2 = test.chisquare_test()"
   ]
  },
  {
   "cell_type": "code",
   "execution_count": 107,
   "metadata": {
    "collapsed": false
   },
   "outputs": [
    {
     "name": "stdout",
     "output_type": "stream",
     "text": [
      "test stat from liklehood ratio test:  0.4754\n",
      "test stat from chisquare test 0.47\n"
     ]
    }
   ],
   "source": [
    "print(\"test stat from liklehood ratio test: \", lam)\n",
    "print(\"test stat from chisquare test\", lam2)\n",
    "\n",
    "#Compare these values with the quantile function of the chi-square"
   ]
  },
  {
   "cell_type": "code",
   "execution_count": null,
   "metadata": {
    "collapsed": true
   },
   "outputs": [],
   "source": []
  }
 ],
 "metadata": {
  "kernelspec": {
   "display_name": "Python [Anaconda3]",
   "language": "python",
   "name": "Python [Anaconda3]"
  },
  "language_info": {
   "codemirror_mode": {
    "name": "ipython",
    "version": 3
   },
   "file_extension": ".py",
   "mimetype": "text/x-python",
   "name": "python",
   "nbconvert_exporter": "python",
   "pygments_lexer": "ipython3",
   "version": "3.5.4"
  }
 },
 "nbformat": 4,
 "nbformat_minor": 0
}
